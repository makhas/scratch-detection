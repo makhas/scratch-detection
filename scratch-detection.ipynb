{
 "cells": [
  {
   "cell_type": "code",
   "execution_count": 16,
   "metadata": {},
   "outputs": [
    {
     "name": "stdout",
     "output_type": "stream",
     "text": [
      "Differences detected. Please examine CAR_SIDE for damages.\n",
      "0.5362588141883082\n",
      "10000\n"
     ]
    }
   ],
   "source": [
    "import cv2\n",
    "\n",
    "class CompareImage(object):\n",
    "\n",
    "    def __init__(self, image_1_path, image_2_path):\n",
    "        self.minimum_commutative_image_diff = 0.1\n",
    "        self.image_1_path = image_1_path\n",
    "        self.image_2_path = image_2_path\n",
    "\n",
    "    def compare_image(self):\n",
    "        image_1 = cv2.imread(self.image_1_path)\n",
    "        image_2 = cv2.imread(self.image_2_path)\n",
    "        commutative_image_diff = self.get_image_difference(image_1, image_2)\n",
    "\n",
    "        if commutative_image_diff < self.minimum_commutative_image_diff:\n",
    "            print(\"Matched\")\n",
    "            return commutative_image_diff\n",
    "        else:\n",
    "            print(\"Differences detected. Please examine CAR_SIDE for damages.\")\n",
    "            print(commutative_image_diff)\n",
    "        return 10000 #//random failure value\n",
    "\n",
    "    @staticmethod\n",
    "    def get_image_difference(image_1, image_2):\n",
    "        first_image_hist = cv2.calcHist([image_1], [0], None, [256], [0, 256])\n",
    "        second_image_hist = cv2.calcHist([image_2], [0], None, [256], [0, 256])\n",
    "\n",
    "        img_hist_diff = cv2.compareHist(first_image_hist, second_image_hist, cv2.HISTCMP_BHATTACHARYYA)\n",
    "        img_template_probability_match = cv2.matchTemplate(first_image_hist, second_image_hist, cv2.TM_CCOEFF_NORMED)[0][0]\n",
    "        img_template_diff = 1 - img_template_probability_match\n",
    "\n",
    "        # taking only 10% of histogram diff, since it's less accurate than template method\n",
    "        commutative_image_diff = (img_hist_diff / 10) + img_template_diff\n",
    "        return commutative_image_diff\n",
    "\n",
    "\n",
    "if __name__ == '__main__':\n",
    "    compare_image = CompareImage('data\\pictures\\A-fine.jpg', 'data\\pictures\\A-scratch.jpg')\n",
    "    image_difference = compare_image.compare_image()\n",
    "    print(image_difference)"
   ]
  },
  {
   "cell_type": "code",
   "execution_count": 9,
   "metadata": {},
   "outputs": [],
   "source": [
    "\"\"\"\n",
    "Parameters\n",
    "----------\n",
    "image : ndarray\n",
    "    Input image data. Will be converted to float.\n",
    "mode : str\n",
    "    One of the following strings, selecting the type of noise to add:\n",
    "\n",
    "    'gauss'     Gaussian-distributed additive noise.\n",
    "    'poisson'   Poisson-distributed noise generated from the data.\n",
    "    's&p'       Replaces random pixels with 0 or 1.\n",
    "    'speckle'   Multiplicative noise using out = image + n*image,where\n",
    "                n is uniform noise with specified mean & variance.\n",
    "\"\"\"\n",
    "\n",
    "import numpy as np\n",
    "import os\n",
    "\n",
    "def noisy(noise_typ,image):\n",
    "   if noise_typ == \"gauss\":\n",
    "      row,col,ch= image.shape\n",
    "      mean = 0\n",
    "      var = 0.1\n",
    "      sigma = var**0.5\n",
    "      gauss = np.random.normal(mean,sigma,(row,col,ch))\n",
    "      gauss = gauss.reshape(row,col,ch)\n",
    "      noisy = image + gauss\n",
    "      return noisy\n",
    "   elif noise_typ == \"s&p\":\n",
    "      row,col,ch = image.shape\n",
    "      s_vs_p = 0.5\n",
    "      amount = 0.004\n",
    "      out = np.copy(image)\n",
    "      # Salt mode\n",
    "      num_salt = np.ceil(amount * image.size * s_vs_p)\n",
    "      coords = [np.random.randint(0, i - 1, int(num_salt))\n",
    "              for i in image.shape]\n",
    "      out[coords] = 1\n",
    "\n",
    "      # Pepper mode\n",
    "      num_pepper = np.ceil(amount* image.size * (1. - s_vs_p))\n",
    "      coords = [np.random.randint(0, i - 1, int(num_pepper))\n",
    "              for i in image.shape]\n",
    "      out[coords] = 0\n",
    "      return out\n",
    "   elif noise_typ == \"poisson\":\n",
    "        vals = len(np.unique(image))\n",
    "        vals = 2 ** np.ceil(np.log2(vals))\n",
    "        noisy = np.random.poisson(image * vals) / float(vals)\n",
    "        return noisy\n",
    "   elif noise_typ ==\"speckle\":\n",
    "       row,col,ch = image.shape\n",
    "       gauss = np.random.randn(row,col,ch)\n",
    "       gauss = gauss.reshape(row,col,ch)        \n",
    "       noisy = image + image * gauss\n",
    "       return noisy"
   ]
  },
  {
   "cell_type": "code",
   "execution_count": 21,
   "metadata": {},
   "outputs": [
    {
     "name": "stderr",
     "output_type": "stream",
     "text": [
      "C:\\Users\\shubh\\AppData\\Local\\Temp/ipykernel_2696/2559677558.py:38: FutureWarning: Using a non-tuple sequence for multidimensional indexing is deprecated; use `arr[tuple(seq)]` instead of `arr[seq]`. In the future this will be interpreted as an array index, `arr[np.array(seq)]`, which will result either in an error or a different result.\n",
      "  out[coords] = 1\n",
      "C:\\Users\\shubh\\AppData\\Local\\Temp/ipykernel_2696/2559677558.py:44: FutureWarning: Using a non-tuple sequence for multidimensional indexing is deprecated; use `arr[tuple(seq)]` instead of `arr[seq]`. In the future this will be interpreted as an array index, `arr[np.array(seq)]`, which will result either in an error or a different result.\n",
      "  out[coords] = 0\n"
     ]
    },
    {
     "data": {
      "text/plain": [
       "True"
      ]
     },
     "execution_count": 21,
     "metadata": {},
     "output_type": "execute_result"
    }
   ],
   "source": [
    "img = cv2.imread('data\\pictures\\A-fine.jpg')\n",
    "gaussy_img = noisy(\"s&p\",img)\n",
    "cv2.imwrite(\"data\\pictures\\A-fine-snp.jpg\",gaussy_img)"
   ]
  },
  {
   "cell_type": "code",
   "execution_count": 22,
   "metadata": {},
   "outputs": [
    {
     "name": "stdout",
     "output_type": "stream",
     "text": [
      "Differences detected. Please examine CAR_SIDE for damages.\n",
      "0.1074325058643892\n",
      "10000\n"
     ]
    }
   ],
   "source": [
    "compare_image = CompareImage('data\\pictures\\A-fine.jpg', 'data\\pictures\\A-fine-snp.jpg')\n",
    "image_difference = compare_image.compare_image()\n",
    "print(image_difference)"
   ]
  },
  {
   "cell_type": "code",
   "execution_count": null,
   "metadata": {},
   "outputs": [],
   "source": []
  }
 ],
 "metadata": {
  "kernelspec": {
   "display_name": "driverchallenge",
   "language": "python",
   "name": "python3"
  },
  "language_info": {
   "codemirror_mode": {
    "name": "ipython",
    "version": 3
   },
   "file_extension": ".py",
   "mimetype": "text/x-python",
   "name": "python",
   "nbconvert_exporter": "python",
   "pygments_lexer": "ipython3",
   "version": "3.9.7"
  }
 },
 "nbformat": 4,
 "nbformat_minor": 2
}
